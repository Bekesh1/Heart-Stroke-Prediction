{
 "cells": [
  {
   "cell_type": "markdown",
   "id": "91ce073c",
   "metadata": {},
   "source": [
    "Importing Libraries and Loading datasets"
   ]
  },
  {
   "cell_type": "code",
   "execution_count": 139,
   "id": "ba4fc3a4",
   "metadata": {},
   "outputs": [],
   "source": [
    "import numpy as np\n",
    "import pandas as pd\n",
    "import seaborn as sns\n",
    "import matplotlib.pyplot as plt\n",
    "import datetime as dt\n",
    "import warnings\n",
    "from sklearn.preprocessing import RobustScaler, LabelEncoder, MinMaxScaler\n",
    "from sklearn.model_selection import train_test_split, cross_validate, GridSearchCV\n",
    "from sklearn.metrics import accuracy_score, classification_report, confusion_matrix,roc_curve, auc\n",
    "from sklearn.linear_model import LogisticRegression\n",
    "from sklearn.neighbors import KNeighborsClassifier\n",
    "from sklearn.ensemble import RandomForestClassifier, GradientBoostingClassifier\n",
    "from sklearn.svm import SVC\n",
    "from sklearn.tree import DecisionTreeClassifier\n",
    "#from xgboost import XGBClassifier\n",
    "#from lightgbm import LGBMClassifier\n",
    "\n",
    "pd.set_option('display.max_columns', None)\n",
    "pd.set_option('display.width', 500)\n",
    "warnings.simplefilter(action='ignore', category=Warning)"
   ]
  },
  {
   "cell_type": "markdown",
   "id": "6c20c144",
   "metadata": {},
   "source": [
    "Loading Datasets"
   ]
  },
  {
   "cell_type": "code",
   "execution_count": 140,
   "id": "7324b8fe",
   "metadata": {},
   "outputs": [],
   "source": [
    "df = pd.read_csv(\"D:\\machine learning\\healthcare-dataset-stroke-data.csv\")"
   ]
  },
  {
   "cell_type": "markdown",
   "id": "556efea6",
   "metadata": {},
   "source": [
    "Exploratory Data Analysis"
   ]
  },
  {
   "cell_type": "code",
   "execution_count": 141,
   "id": "aad82a97",
   "metadata": {},
   "outputs": [
    {
     "data": {
      "text/html": [
       "<div>\n",
       "<style scoped>\n",
       "    .dataframe tbody tr th:only-of-type {\n",
       "        vertical-align: middle;\n",
       "    }\n",
       "\n",
       "    .dataframe tbody tr th {\n",
       "        vertical-align: top;\n",
       "    }\n",
       "\n",
       "    .dataframe thead th {\n",
       "        text-align: right;\n",
       "    }\n",
       "</style>\n",
       "<table border=\"1\" class=\"dataframe\">\n",
       "  <thead>\n",
       "    <tr style=\"text-align: right;\">\n",
       "      <th></th>\n",
       "      <th>id</th>\n",
       "      <th>gender</th>\n",
       "      <th>age</th>\n",
       "      <th>hypertension</th>\n",
       "      <th>heart_disease</th>\n",
       "      <th>ever_married</th>\n",
       "      <th>work_type</th>\n",
       "      <th>Residence_type</th>\n",
       "      <th>avg_glucose_level</th>\n",
       "      <th>bmi</th>\n",
       "      <th>smoking_status</th>\n",
       "      <th>stroke</th>\n",
       "    </tr>\n",
       "  </thead>\n",
       "  <tbody>\n",
       "    <tr>\n",
       "      <th>0</th>\n",
       "      <td>9046</td>\n",
       "      <td>Male</td>\n",
       "      <td>67.0</td>\n",
       "      <td>0</td>\n",
       "      <td>1</td>\n",
       "      <td>Yes</td>\n",
       "      <td>Private</td>\n",
       "      <td>Urban</td>\n",
       "      <td>228.69</td>\n",
       "      <td>36.6</td>\n",
       "      <td>formerly smoked</td>\n",
       "      <td>1</td>\n",
       "    </tr>\n",
       "    <tr>\n",
       "      <th>1</th>\n",
       "      <td>51676</td>\n",
       "      <td>Female</td>\n",
       "      <td>61.0</td>\n",
       "      <td>0</td>\n",
       "      <td>0</td>\n",
       "      <td>Yes</td>\n",
       "      <td>Self-employed</td>\n",
       "      <td>Rural</td>\n",
       "      <td>202.21</td>\n",
       "      <td>NaN</td>\n",
       "      <td>never smoked</td>\n",
       "      <td>1</td>\n",
       "    </tr>\n",
       "    <tr>\n",
       "      <th>2</th>\n",
       "      <td>31112</td>\n",
       "      <td>Male</td>\n",
       "      <td>80.0</td>\n",
       "      <td>0</td>\n",
       "      <td>1</td>\n",
       "      <td>Yes</td>\n",
       "      <td>Private</td>\n",
       "      <td>Rural</td>\n",
       "      <td>105.92</td>\n",
       "      <td>32.5</td>\n",
       "      <td>never smoked</td>\n",
       "      <td>1</td>\n",
       "    </tr>\n",
       "    <tr>\n",
       "      <th>3</th>\n",
       "      <td>60182</td>\n",
       "      <td>Female</td>\n",
       "      <td>49.0</td>\n",
       "      <td>0</td>\n",
       "      <td>0</td>\n",
       "      <td>Yes</td>\n",
       "      <td>Private</td>\n",
       "      <td>Urban</td>\n",
       "      <td>171.23</td>\n",
       "      <td>34.4</td>\n",
       "      <td>smokes</td>\n",
       "      <td>1</td>\n",
       "    </tr>\n",
       "    <tr>\n",
       "      <th>4</th>\n",
       "      <td>1665</td>\n",
       "      <td>Female</td>\n",
       "      <td>79.0</td>\n",
       "      <td>1</td>\n",
       "      <td>0</td>\n",
       "      <td>Yes</td>\n",
       "      <td>Self-employed</td>\n",
       "      <td>Rural</td>\n",
       "      <td>174.12</td>\n",
       "      <td>24.0</td>\n",
       "      <td>never smoked</td>\n",
       "      <td>1</td>\n",
       "    </tr>\n",
       "  </tbody>\n",
       "</table>\n",
       "</div>"
      ],
      "text/plain": [
       "      id  gender   age  hypertension  heart_disease ever_married      work_type Residence_type  avg_glucose_level   bmi   smoking_status  stroke\n",
       "0   9046    Male  67.0             0              1          Yes        Private          Urban             228.69  36.6  formerly smoked       1\n",
       "1  51676  Female  61.0             0              0          Yes  Self-employed          Rural             202.21   NaN     never smoked       1\n",
       "2  31112    Male  80.0             0              1          Yes        Private          Rural             105.92  32.5     never smoked       1\n",
       "3  60182  Female  49.0             0              0          Yes        Private          Urban             171.23  34.4           smokes       1\n",
       "4   1665  Female  79.0             1              0          Yes  Self-employed          Rural             174.12  24.0     never smoked       1"
      ]
     },
     "execution_count": 141,
     "metadata": {},
     "output_type": "execute_result"
    }
   ],
   "source": [
    "df.head()"
   ]
  },
  {
   "cell_type": "code",
   "execution_count": 142,
   "id": "4c3dc1ff",
   "metadata": {},
   "outputs": [
    {
     "data": {
      "text/html": [
       "<div>\n",
       "<style scoped>\n",
       "    .dataframe tbody tr th:only-of-type {\n",
       "        vertical-align: middle;\n",
       "    }\n",
       "\n",
       "    .dataframe tbody tr th {\n",
       "        vertical-align: top;\n",
       "    }\n",
       "\n",
       "    .dataframe thead th {\n",
       "        text-align: right;\n",
       "    }\n",
       "</style>\n",
       "<table border=\"1\" class=\"dataframe\">\n",
       "  <thead>\n",
       "    <tr style=\"text-align: right;\">\n",
       "      <th></th>\n",
       "      <th>id</th>\n",
       "      <th>gender</th>\n",
       "      <th>age</th>\n",
       "      <th>hypertension</th>\n",
       "      <th>heart_disease</th>\n",
       "      <th>ever_married</th>\n",
       "      <th>work_type</th>\n",
       "      <th>Residence_type</th>\n",
       "      <th>avg_glucose_level</th>\n",
       "      <th>bmi</th>\n",
       "      <th>smoking_status</th>\n",
       "      <th>stroke</th>\n",
       "    </tr>\n",
       "  </thead>\n",
       "  <tbody>\n",
       "    <tr>\n",
       "      <th>5105</th>\n",
       "      <td>18234</td>\n",
       "      <td>Female</td>\n",
       "      <td>80.0</td>\n",
       "      <td>1</td>\n",
       "      <td>0</td>\n",
       "      <td>Yes</td>\n",
       "      <td>Private</td>\n",
       "      <td>Urban</td>\n",
       "      <td>83.75</td>\n",
       "      <td>NaN</td>\n",
       "      <td>never smoked</td>\n",
       "      <td>0</td>\n",
       "    </tr>\n",
       "    <tr>\n",
       "      <th>5106</th>\n",
       "      <td>44873</td>\n",
       "      <td>Female</td>\n",
       "      <td>81.0</td>\n",
       "      <td>0</td>\n",
       "      <td>0</td>\n",
       "      <td>Yes</td>\n",
       "      <td>Self-employed</td>\n",
       "      <td>Urban</td>\n",
       "      <td>125.20</td>\n",
       "      <td>40.0</td>\n",
       "      <td>never smoked</td>\n",
       "      <td>0</td>\n",
       "    </tr>\n",
       "    <tr>\n",
       "      <th>5107</th>\n",
       "      <td>19723</td>\n",
       "      <td>Female</td>\n",
       "      <td>35.0</td>\n",
       "      <td>0</td>\n",
       "      <td>0</td>\n",
       "      <td>Yes</td>\n",
       "      <td>Self-employed</td>\n",
       "      <td>Rural</td>\n",
       "      <td>82.99</td>\n",
       "      <td>30.6</td>\n",
       "      <td>never smoked</td>\n",
       "      <td>0</td>\n",
       "    </tr>\n",
       "    <tr>\n",
       "      <th>5108</th>\n",
       "      <td>37544</td>\n",
       "      <td>Male</td>\n",
       "      <td>51.0</td>\n",
       "      <td>0</td>\n",
       "      <td>0</td>\n",
       "      <td>Yes</td>\n",
       "      <td>Private</td>\n",
       "      <td>Rural</td>\n",
       "      <td>166.29</td>\n",
       "      <td>25.6</td>\n",
       "      <td>formerly smoked</td>\n",
       "      <td>0</td>\n",
       "    </tr>\n",
       "    <tr>\n",
       "      <th>5109</th>\n",
       "      <td>44679</td>\n",
       "      <td>Female</td>\n",
       "      <td>44.0</td>\n",
       "      <td>0</td>\n",
       "      <td>0</td>\n",
       "      <td>Yes</td>\n",
       "      <td>Govt_job</td>\n",
       "      <td>Urban</td>\n",
       "      <td>85.28</td>\n",
       "      <td>26.2</td>\n",
       "      <td>Unknown</td>\n",
       "      <td>0</td>\n",
       "    </tr>\n",
       "  </tbody>\n",
       "</table>\n",
       "</div>"
      ],
      "text/plain": [
       "         id  gender   age  hypertension  heart_disease ever_married      work_type Residence_type  avg_glucose_level   bmi   smoking_status  stroke\n",
       "5105  18234  Female  80.0             1              0          Yes        Private          Urban              83.75   NaN     never smoked       0\n",
       "5106  44873  Female  81.0             0              0          Yes  Self-employed          Urban             125.20  40.0     never smoked       0\n",
       "5107  19723  Female  35.0             0              0          Yes  Self-employed          Rural              82.99  30.6     never smoked       0\n",
       "5108  37544    Male  51.0             0              0          Yes        Private          Rural             166.29  25.6  formerly smoked       0\n",
       "5109  44679  Female  44.0             0              0          Yes       Govt_job          Urban              85.28  26.2          Unknown       0"
      ]
     },
     "execution_count": 142,
     "metadata": {},
     "output_type": "execute_result"
    }
   ],
   "source": [
    "df.tail()"
   ]
  },
  {
   "cell_type": "code",
   "execution_count": 143,
   "id": "2964c09c",
   "metadata": {},
   "outputs": [
    {
     "data": {
      "text/plain": [
       "(5110, 12)"
      ]
     },
     "execution_count": 143,
     "metadata": {},
     "output_type": "execute_result"
    }
   ],
   "source": [
    "df.shape"
   ]
  },
  {
   "cell_type": "markdown",
   "id": "9e7f32a3",
   "metadata": {},
   "source": [
    "Missing Values"
   ]
  },
  {
   "cell_type": "code",
   "execution_count": 144,
   "id": "1c7603ce",
   "metadata": {},
   "outputs": [
    {
     "data": {
      "text/plain": [
       "id                     0\n",
       "gender                 0\n",
       "age                    0\n",
       "hypertension           0\n",
       "heart_disease          0\n",
       "ever_married           0\n",
       "work_type              0\n",
       "Residence_type         0\n",
       "avg_glucose_level      0\n",
       "bmi                  201\n",
       "smoking_status         0\n",
       "stroke                 0\n",
       "dtype: int64"
      ]
     },
     "execution_count": 144,
     "metadata": {},
     "output_type": "execute_result"
    }
   ],
   "source": [
    "df.isnull().sum()"
   ]
  },
  {
   "cell_type": "code",
   "execution_count": 145,
   "id": "c20325f7",
   "metadata": {},
   "outputs": [
    {
     "data": {
      "text/plain": [
       "3.9334637964774952"
      ]
     },
     "execution_count": 145,
     "metadata": {},
     "output_type": "execute_result"
    }
   ],
   "source": [
    "(df[\"bmi\"].isnull().sum() / df.shape[0]) * 100"
   ]
  },
  {
   "cell_type": "markdown",
   "id": "f168dd06",
   "metadata": {},
   "source": [
    "The percentage of missing data in the \"bmi\" column of a DataFrame \"df\" is determined by this line of code. "
   ]
  },
  {
   "cell_type": "code",
   "execution_count": 146,
   "id": "5cebc72a",
   "metadata": {},
   "outputs": [
    {
     "data": {
      "text/plain": [
       "<Axes: >"
      ]
     },
     "execution_count": 146,
     "metadata": {},
     "output_type": "execute_result"
    },
    {
     "data": {
      "image/png": "[encoded data removed]",
      "text/plain": [
       "<Figure size 640x480 with 1 Axes>"
      ]
     },
     "metadata": {},
     "output_type": "display_data"
    }
   ],
   "source": [
    "sns.barplot(data=df, x=[\"Null\", \"Not Null\"], y=[df[\"bmi\"].isnull().sum(), df[\"bmi\"].notnull().sum()], palette=\"ch:.25\")"
   ]
  },
  {
   "cell_type": "markdown",
   "id": "4e059d11",
   "metadata": {},
   "source": [
    "The code's creating a bar chart for the DataFrame \"bmi\" column, showing the number of null and non-null values. The x-axis is divided into two categories, \"Null\" and \"Not Null\", and the y-axis is the number of values. The bar height indicates the number of values that are in each category."
   ]
  },
  {
   "cell_type": "markdown",
   "id": "f47a9eee",
   "metadata": {},
   "source": [
    "Categorical and Numerical Variables"
   ]
  },
  {
   "cell_type": "code",
   "execution_count": 147,
   "id": "44fa43b1",
   "metadata": {},
   "outputs": [],
   "source": [
    "def col_names(df):\n",
    "    #Categorical Variables\n",
    "    cat_cols = [col for col in df.columns if df[col].dtypes not in [\"int64\", \"float64\"]]\n",
    "    #Numerical Variables\n",
    "    num_cols = [col for col in df.columns if df[col].dtypes in [\"int64\", \"float64\"]]\n",
    "    #Numerical but Categorical Variables\n",
    "    num_but_cat = [col for col in num_cols if df[col].nunique() < 12]\n",
    "    #Adding num_but_cat to cat_cols\n",
    "    cat_cols = num_but_cat + cat_cols\n",
    "    #num_but_cat removing from num_cols\n",
    "    num_cols = [col for col in num_cols if col not in num_but_cat]\n",
    "    #Categorical but Cardinal Variables\n",
    "    cat_but_car = [col for col in cat_cols if df[col].nunique() > 12]\n",
    "    print(f\"Numerical Cols: {num_cols} \\nCategorical Cols: {cat_cols} \\nNumerical but Categorical: {num_but_cat} \\nCategorical but Cardinal: {cat_but_car}\") \n",
    "    return num_cols, cat_cols"
   ]
  },
  {
   "cell_type": "code",
   "execution_count": 148,
   "id": "ea668853",
   "metadata": {},
   "outputs": [
    {
     "name": "stdout",
     "output_type": "stream",
     "text": [
      "Numerical Cols: ['id', 'age', 'avg_glucose_level', 'bmi'] \n",
      "Categorical Cols: ['hypertension', 'heart_disease', 'stroke', 'gender', 'ever_married', 'work_type', 'Residence_type', 'smoking_status'] \n",
      "Numerical but Categorical: ['hypertension', 'heart_disease', 'stroke'] \n",
      "Categorical but Cardinal: []\n"
     ]
    }
   ],
   "source": [
    "num_cols, cat_cols = col_names(df)"
   ]
  },
  {
   "cell_type": "markdown",
   "id": "1f863bec",
   "metadata": {},
   "source": [
    "Analyzing Numerical Variables"
   ]
  },
  {
   "cell_type": "code",
   "execution_count": 149,
   "id": "9020fbae",
   "metadata": {},
   "outputs": [
    {
     "data": {
      "text/html": [
       "<div>\n",
       "<style scoped>\n",
       "    .dataframe tbody tr th:only-of-type {\n",
       "        vertical-align: middle;\n",
       "    }\n",
       "\n",
       "    .dataframe tbody tr th {\n",
       "        vertical-align: top;\n",
       "    }\n",
       "\n",
       "    .dataframe thead th {\n",
       "        text-align: right;\n",
       "    }\n",
       "</style>\n",
       "<table border=\"1\" class=\"dataframe\">\n",
       "  <thead>\n",
       "    <tr style=\"text-align: right;\">\n",
       "      <th></th>\n",
       "      <th>count</th>\n",
       "      <th>mean</th>\n",
       "      <th>std</th>\n",
       "      <th>min</th>\n",
       "      <th>25%</th>\n",
       "      <th>50%</th>\n",
       "      <th>75%</th>\n",
       "      <th>max</th>\n",
       "    </tr>\n",
       "  </thead>\n",
       "  <tbody>\n",
       "    <tr>\n",
       "      <th>id</th>\n",
       "      <td>5110.0</td>\n",
       "      <td>36517.829354</td>\n",
       "      <td>21161.721625</td>\n",
       "      <td>67.00</td>\n",
       "      <td>17741.250</td>\n",
       "      <td>36932.000</td>\n",
       "      <td>54682.00</td>\n",
       "      <td>72940.00</td>\n",
       "    </tr>\n",
       "    <tr>\n",
       "      <th>age</th>\n",
       "      <td>5110.0</td>\n",
       "      <td>43.226614</td>\n",
       "      <td>22.612647</td>\n",
       "      <td>0.08</td>\n",
       "      <td>25.000</td>\n",
       "      <td>45.000</td>\n",
       "      <td>61.00</td>\n",
       "      <td>82.00</td>\n",
       "    </tr>\n",
       "    <tr>\n",
       "      <th>avg_glucose_level</th>\n",
       "      <td>5110.0</td>\n",
       "      <td>106.147677</td>\n",
       "      <td>45.283560</td>\n",
       "      <td>55.12</td>\n",
       "      <td>77.245</td>\n",
       "      <td>91.885</td>\n",
       "      <td>114.09</td>\n",
       "      <td>271.74</td>\n",
       "    </tr>\n",
       "    <tr>\n",
       "      <th>bmi</th>\n",
       "      <td>4909.0</td>\n",
       "      <td>28.893237</td>\n",
       "      <td>7.854067</td>\n",
       "      <td>10.30</td>\n",
       "      <td>23.500</td>\n",
       "      <td>28.100</td>\n",
       "      <td>33.10</td>\n",
       "      <td>97.60</td>\n",
       "    </tr>\n",
       "  </tbody>\n",
       "</table>\n",
       "</div>"
      ],
      "text/plain": [
       "                    count          mean           std    min        25%        50%       75%       max\n",
       "id                 5110.0  36517.829354  21161.721625  67.00  17741.250  36932.000  54682.00  72940.00\n",
       "age                5110.0     43.226614     22.612647   0.08     25.000     45.000     61.00     82.00\n",
       "avg_glucose_level  5110.0    106.147677     45.283560  55.12     77.245     91.885    114.09    271.74\n",
       "bmi                4909.0     28.893237      7.854067  10.30     23.500     28.100     33.10     97.60"
      ]
     },
     "execution_count": 149,
     "metadata": {},
     "output_type": "execute_result"
    }
   ],
   "source": [
    "df[num_cols].describe().T"
   ]
  },
  {
   "cell_type": "code",
   "execution_count": 150,
   "id": "3bca6e6c",
   "metadata": {},
   "outputs": [
    {
     "data": {
      "image/png": "[encoded data removed]",
      "text/plain": [
       "<Figure size 640x480 with 1 Axes>"
      ]
     },
     "metadata": {},
     "output_type": "display_data"
    },
    {
     "data": {
      "image/png": "[encoded data removed]",
      "text/plain": [
       "<Figure size 640x480 with 1 Axes>"
      ]
     },
     "metadata": {},
     "output_type": "display_data"
    },
    {
     "data": {
      "image/png": "[encoded data removed]",
      "text/plain": [
       "<Figure size 640x480 with 1 Axes>"
      ]
     },
     "metadata": {},
     "output_type": "display_data"
    },
    {
     "data": {
      "image/png": "[encoded data removed]",
      "text/plain": [
       "<Figure size 640x480 with 1 Axes>"
      ]
     },
     "metadata": {},
     "output_type": "display_data"
    }
   ],
   "source": [
    "for col in num_cols:\n",
    "    sns.histplot(x=df[col], data=df, color=\"steelblue\")\n",
    "    plt.show(block=True)"
   ]
  },
  {
   "cell_type": "code",
   "execution_count": 151,
   "id": "02c846e0",
   "metadata": {},
   "outputs": [
    {
     "data": {
      "image/png": "[encoded data removed]",
      "text/plain": [
       "<Figure size 640x480 with 1 Axes>"
      ]
     },
     "metadata": {},
     "output_type": "display_data"
    },
    {
     "data": {
      "image/png": "[encoded data removed]",
      "text/plain": [
       "<Figure size 640x480 with 1 Axes>"
      ]
     },
     "metadata": {},
     "output_type": "display_data"
    },
    {
     "data": {
      "image/png": "[encoded data removed]",
      "text/plain": [
       "<Figure size 640x480 with 1 Axes>"
      ]
     },
     "metadata": {},
     "output_type": "display_data"
    },
    {
     "data": {
      "image/png": "[encoded data removed]",
      "text/plain": [
       "<Figure size 640x480 with 1 Axes>"
      ]
     },
     "metadata": {},
     "output_type": "display_data"
    }
   ],
   "source": [
    "for col in num_cols:\n",
    "    sns.boxplot(x=df[col], data=df, color=\"#d79345\")\n",
    "    plt.show(block=True)"
   ]
  },
  {
   "cell_type": "markdown",
   "id": "4136b275",
   "metadata": {},
   "source": [
    "Analyzing Target Variable"
   ]
  },
  {
   "cell_type": "code",
   "execution_count": 152,
   "id": "419085de",
   "metadata": {},
   "outputs": [
    {
     "data": {
      "text/plain": [
       "0    4861\n",
       "1     249\n",
       "Name: stroke, dtype: int64"
      ]
     },
     "execution_count": 152,
     "metadata": {},
     "output_type": "execute_result"
    }
   ],
   "source": [
    "df[\"stroke\"].value_counts()"
   ]
  },
  {
   "cell_type": "code",
   "execution_count": 153,
   "id": "b6fb110b",
   "metadata": {},
   "outputs": [
    {
     "data": {
      "image/png": "[encoded data removed]",
      "text/plain": [
       "<Figure size 640x480 with 1 Axes>"
      ]
     },
     "metadata": {},
     "output_type": "display_data"
    },
    {
     "data": {
      "image/png": "[encoded data removed]",
      "text/plain": [
       "<Figure size 640x480 with 1 Axes>"
      ]
     },
     "metadata": {},
     "output_type": "display_data"
    },
    {
     "data": {
      "image/png": "[encoded data removed]",
      "text/plain": [
       "<Figure size 640x480 with 1 Axes>"
      ]
     },
     "metadata": {},
     "output_type": "display_data"
    },
    {
     "data": {
      "image/png": "[encoded data removed]",
      "text/plain": [
       "<Figure size 640x480 with 1 Axes>"
      ]
     },
     "metadata": {},
     "output_type": "display_data"
    },
    {
     "data": {
      "image/png": "[encoded data removed]",
      "text/plain": [
       "<Figure size 640x480 with 1 Axes>"
      ]
     },
     "metadata": {},
     "output_type": "display_data"
    },
    {
     "data": {
      "image/png": "[encoded data removed]",
      "text/plain": [
       "<Figure size 640x480 with 1 Axes>"
      ]
     },
     "metadata": {},
     "output_type": "display_data"
    },
    {
     "data": {
      "image/png": "[encoded data removed]",
      "text/plain": [
       "<Figure size 640x480 with 1 Axes>"
      ]
     },
     "metadata": {},
     "output_type": "display_data"
    },
    {
     "data": {
      "image/png": "[encoded data removed]",
      "text/plain": [
       "<Figure size 640x480 with 1 Axes>"
      ]
     },
     "metadata": {},
     "output_type": "display_data"
    }
   ],
   "source": [
    "for col in cat_cols:\n",
    "    sns.barplot(x=df[col].value_counts().index, y=df[col].value_counts(), palette=\"ch:.25\")\n",
    "    plt.show(block=True)"
   ]
  },
  {
   "cell_type": "code",
   "execution_count": 154,
   "id": "a5cd7af3",
   "metadata": {},
   "outputs": [
    {
     "data": {
      "image/png": "[encoded data removed]",
      "text/plain": [
       "<Figure size 640x480 with 1 Axes>"
      ]
     },
     "metadata": {},
     "output_type": "display_data"
    }
   ],
   "source": [
    "sns.countplot(data=df, x='stroke', palette='ch:.25')\n",
    "plt.show(block=True)\n"
   ]
  },
  {
   "cell_type": "code",
   "execution_count": 155,
   "id": "13f4ecae",
   "metadata": {},
   "outputs": [
    {
     "data": {
      "text/plain": [
       "([<matplotlib.patches.Wedge at 0x19a14d22950>,\n",
       "  <matplotlib.patches.Wedge at 0x19a14d23a30>],\n",
       " [Text(-1.0871361453364168, 0.16773491438301516, '0'),\n",
       "  Text(1.284797260350331, -0.19823218657998906, '1')],\n",
       " [Text(-0.5929833520016818, 0.09149177148164463, '95.1%'),\n",
       "  Text(0.7906444679078961, -0.12198903789537788, '4.9%')])"
      ]
     },
     "execution_count": 155,
     "metadata": {},
     "output_type": "execute_result"
    },
    {
     "data": {
      "image/png": "[encoded data removed]",
      "text/plain": [
       "<Figure size 640x480 with 1 Axes>"
      ]
     },
     "metadata": {},
     "output_type": "display_data"
    }
   ],
   "source": [
    "plt.pie(df[\"stroke\"].value_counts(), labels=[0,1], shadow=True, colors=[\"#808000\", \"mistyrose\"], explode=(0,0.2), autopct=\"%1.1f%%\")"
   ]
  },
  {
   "cell_type": "markdown",
   "id": "0aa92377",
   "metadata": {},
   "source": [
    "Checking for Outliers in Numerical Variables"
   ]
  },
  {
   "cell_type": "markdown",
   "id": "e1ea82ad",
   "metadata": {},
   "source": [
    "Inter quartile range was used when checking for outliers"
   ]
  },
  {
   "cell_type": "code",
   "execution_count": 156,
   "id": "9b62496f",
   "metadata": {},
   "outputs": [],
   "source": [
    "def check_outliers(df, numerical_cols, low_threshold=0.1, up_threshold=0.9):\n",
    "    outlier_cols = []\n",
    "    for col in numerical_cols:\n",
    "        q1 = df[col].quantile(low_threshold)\n",
    "        q3 = df[col].quantile(up_threshold)\n",
    "        interquantile = q3 - q1\n",
    "        up_limit = q3 + 1.5 * interquantile\n",
    "        low_limit = q1 - 1.5 * interquantile\n",
    "        if df[(df[col] > up_limit) | (df[col] < low_limit)].any(axis=None):\n",
    "            outlier_cols.append(col)\n",
    "    if not outlier_cols:\n",
    "        print(\"There is no outliers\")\n",
    "    return outlier_cols"
   ]
  },
  {
   "cell_type": "markdown",
   "id": "d4494b12",
   "metadata": {},
   "source": [
    "The check_outliers() function is useful to find the numerical columns in a DataFrame that contain outliers as quickly as possible."
   ]
  },
  {
   "cell_type": "code",
   "execution_count": 157,
   "id": "f6f6b704",
   "metadata": {},
   "outputs": [],
   "source": [
    "outlier_cols = check_outliers(df, num_cols)"
   ]
  },
  {
   "cell_type": "code",
   "execution_count": 158,
   "id": "600fb03f",
   "metadata": {},
   "outputs": [
    {
     "name": "stdout",
     "output_type": "stream",
     "text": [
      "['bmi']\n"
     ]
    }
   ],
   "source": [
    "print(outlier_cols)"
   ]
  },
  {
   "cell_type": "markdown",
   "id": "e21308e7",
   "metadata": {},
   "source": [
    "Correlation"
   ]
  },
  {
   "cell_type": "code",
   "execution_count": 159,
   "id": "c6ea6795",
   "metadata": {},
   "outputs": [
    {
     "data": {
      "text/plain": [
       "<Axes: >"
      ]
     },
     "execution_count": 159,
     "metadata": {},
     "output_type": "execute_result"
    },
    {
     "data": {
      "image/png": "[encoded data removed]",
      "text/plain": [
       "<Figure size 640x480 with 2 Axes>"
      ]
     },
     "metadata": {},
     "output_type": "display_data"
    }
   ],
   "source": [
    "sns.heatmap(df[num_cols].corr(), annot=True, linewidths=0.5, cmap=\"pink\")"
   ]
  },
  {
   "cell_type": "markdown",
   "id": "fd8e6b3b",
   "metadata": {},
   "source": [
    "Target Variable vs Numerical Columns"
   ]
  },
  {
   "cell_type": "code",
   "execution_count": 160,
   "id": "f87e564c",
   "metadata": {},
   "outputs": [
    {
     "name": "stdout",
     "output_type": "stream",
     "text": [
      "                  id\n",
      "stroke              \n",
      "0       36487.236371\n",
      "1       37115.068273\n",
      "\n",
      "              age\n",
      "stroke           \n",
      "0       41.971545\n",
      "1       67.728193\n",
      "\n",
      "        avg_glucose_level\n",
      "stroke                   \n",
      "0              104.795513\n",
      "1              132.544739\n",
      "\n",
      "              bmi\n",
      "stroke           \n",
      "0       28.823064\n",
      "1       30.471292\n",
      "\n"
     ]
    }
   ],
   "source": [
    "for col in num_cols:\n",
    "    print(df.groupby(\"stroke\").agg({col:\"mean\"}), end=\"\\n\\n\")"
   ]
  },
  {
   "cell_type": "markdown",
   "id": "bfdbcf94",
   "metadata": {},
   "source": [
    "According to the results, the probability of having a stroke increases with age, glucose level and bmi"
   ]
  },
  {
   "cell_type": "markdown",
   "id": "19b2a479",
   "metadata": {},
   "source": [
    "Target Variable vs Categorical Columns"
   ]
  },
  {
   "cell_type": "code",
   "execution_count": 161,
   "id": "48a6b320",
   "metadata": {},
   "outputs": [
    {
     "name": "stdout",
     "output_type": "stream",
     "text": [
      "              target_mean\n",
      "hypertension             \n",
      "0                0.039679\n",
      "1                0.132530\n",
      "\n",
      "               target_mean\n",
      "heart_disease             \n",
      "0                 0.041787\n",
      "1                 0.170290\n",
      "\n",
      "        target_mean\n",
      "stroke             \n",
      "0               0.0\n",
      "1               1.0\n",
      "\n",
      "        target_mean\n",
      "gender             \n",
      "Female     0.047094\n",
      "Male       0.051064\n",
      "Other      0.000000\n",
      "\n",
      "              target_mean\n",
      "ever_married             \n",
      "No               0.016505\n",
      "Yes              0.065613\n",
      "\n",
      "               target_mean\n",
      "work_type                 \n",
      "Govt_job          0.050228\n",
      "Never_worked      0.000000\n",
      "Private           0.050940\n",
      "Self-employed     0.079365\n",
      "children          0.002911\n",
      "\n",
      "                target_mean\n",
      "Residence_type             \n",
      "Rural              0.045346\n",
      "Urban              0.052003\n",
      "\n",
      "                 target_mean\n",
      "smoking_status              \n",
      "Unknown             0.030440\n",
      "formerly smoked     0.079096\n",
      "never smoked        0.047569\n",
      "smokes              0.053232\n",
      "\n"
     ]
    }
   ],
   "source": [
    "for col in cat_cols:\n",
    "    print(pd.DataFrame({\"target_mean\": df.groupby(col)[\"stroke\"].mean()}), end=\"\\n\\n\")"
   ]
  },
  {
   "cell_type": "markdown",
   "id": "6ad577e1",
   "metadata": {},
   "source": [
    "According to the results,\n",
    "\n",
    "- People with hypertension are more likely to have a stroke\n",
    "- People with heart disease are more likely to have a stroke\n",
    "- The probability of having a stroke is higher in men\n",
    "- People who have been married are more likely to have a stroke\n",
    "- People who are self-employed are more likely to have a stroke\n",
    "- The probability of having a stroke is higher in urban life\n",
    "- The probability of having a stroke is higher in formerly smoked people"
   ]
  },
  {
   "cell_type": "markdown",
   "id": "e67624ef",
   "metadata": {},
   "source": [
    "# Data Preprocessing & Feature Engineering"
   ]
  },
  {
   "cell_type": "markdown",
   "id": "de13739d",
   "metadata": {},
   "source": [
    "Filling Missing Values"
   ]
  },
  {
   "cell_type": "markdown",
   "id": "9d15aa46",
   "metadata": {},
   "source": [
    "Missing values were filled with the median"
   ]
  },
  {
   "cell_type": "code",
   "execution_count": 162,
   "id": "7223a113",
   "metadata": {},
   "outputs": [],
   "source": [
    "df.fillna(df[\"bmi\"].median(),inplace=True)"
   ]
  },
  {
   "cell_type": "markdown",
   "id": "1d507ae1",
   "metadata": {},
   "source": [
    "Label Encoder"
   ]
  },
  {
   "cell_type": "markdown",
   "id": "f5435ee9",
   "metadata": {},
   "source": [
    "Label encoder was applied to binary columns"
   ]
  },
  {
   "cell_type": "code",
   "execution_count": 163,
   "id": "97aa6e91",
   "metadata": {},
   "outputs": [],
   "source": [
    "binary_cols = [col for col in df.columns if df[col].dtype not in [\"int64\", \"float64\"] and df[col].nunique() == 2]"
   ]
  },
  {
   "cell_type": "code",
   "execution_count": 164,
   "id": "ca9b8267",
   "metadata": {},
   "outputs": [
    {
     "data": {
      "text/plain": [
       "['ever_married', 'Residence_type']"
      ]
     },
     "execution_count": 164,
     "metadata": {},
     "output_type": "execute_result"
    }
   ],
   "source": [
    "binary_cols"
   ]
  },
  {
   "cell_type": "code",
   "execution_count": 165,
   "id": "9755324d",
   "metadata": {},
   "outputs": [],
   "source": [
    "le = LabelEncoder()"
   ]
  },
  {
   "cell_type": "code",
   "execution_count": 166,
   "id": "b644f94a",
   "metadata": {},
   "outputs": [],
   "source": [
    "for col in binary_cols:\n",
    "    df[col] = le.fit_transform(df[col])"
   ]
  },
  {
   "cell_type": "code",
   "execution_count": 167,
   "id": "a8520f65",
   "metadata": {},
   "outputs": [
    {
     "data": {
      "text/html": [
       "<div>\n",
       "<style scoped>\n",
       "    .dataframe tbody tr th:only-of-type {\n",
       "        vertical-align: middle;\n",
       "    }\n",
       "\n",
       "    .dataframe tbody tr th {\n",
       "        vertical-align: top;\n",
       "    }\n",
       "\n",
       "    .dataframe thead th {\n",
       "        text-align: right;\n",
       "    }\n",
       "</style>\n",
       "<table border=\"1\" class=\"dataframe\">\n",
       "  <thead>\n",
       "    <tr style=\"text-align: right;\">\n",
       "      <th></th>\n",
       "      <th>id</th>\n",
       "      <th>gender</th>\n",
       "      <th>age</th>\n",
       "      <th>hypertension</th>\n",
       "      <th>heart_disease</th>\n",
       "      <th>ever_married</th>\n",
       "      <th>work_type</th>\n",
       "      <th>Residence_type</th>\n",
       "      <th>avg_glucose_level</th>\n",
       "      <th>bmi</th>\n",
       "      <th>smoking_status</th>\n",
       "      <th>stroke</th>\n",
       "    </tr>\n",
       "  </thead>\n",
       "  <tbody>\n",
       "    <tr>\n",
       "      <th>0</th>\n",
       "      <td>9046</td>\n",
       "      <td>Male</td>\n",
       "      <td>67.0</td>\n",
       "      <td>0</td>\n",
       "      <td>1</td>\n",
       "      <td>1</td>\n",
       "      <td>Private</td>\n",
       "      <td>1</td>\n",
       "      <td>228.69</td>\n",
       "      <td>36.6</td>\n",
       "      <td>formerly smoked</td>\n",
       "      <td>1</td>\n",
       "    </tr>\n",
       "    <tr>\n",
       "      <th>1</th>\n",
       "      <td>51676</td>\n",
       "      <td>Female</td>\n",
       "      <td>61.0</td>\n",
       "      <td>0</td>\n",
       "      <td>0</td>\n",
       "      <td>1</td>\n",
       "      <td>Self-employed</td>\n",
       "      <td>0</td>\n",
       "      <td>202.21</td>\n",
       "      <td>28.1</td>\n",
       "      <td>never smoked</td>\n",
       "      <td>1</td>\n",
       "    </tr>\n",
       "    <tr>\n",
       "      <th>2</th>\n",
       "      <td>31112</td>\n",
       "      <td>Male</td>\n",
       "      <td>80.0</td>\n",
       "      <td>0</td>\n",
       "      <td>1</td>\n",
       "      <td>1</td>\n",
       "      <td>Private</td>\n",
       "      <td>0</td>\n",
       "      <td>105.92</td>\n",
       "      <td>32.5</td>\n",
       "      <td>never smoked</td>\n",
       "      <td>1</td>\n",
       "    </tr>\n",
       "    <tr>\n",
       "      <th>3</th>\n",
       "      <td>60182</td>\n",
       "      <td>Female</td>\n",
       "      <td>49.0</td>\n",
       "      <td>0</td>\n",
       "      <td>0</td>\n",
       "      <td>1</td>\n",
       "      <td>Private</td>\n",
       "      <td>1</td>\n",
       "      <td>171.23</td>\n",
       "      <td>34.4</td>\n",
       "      <td>smokes</td>\n",
       "      <td>1</td>\n",
       "    </tr>\n",
       "    <tr>\n",
       "      <th>4</th>\n",
       "      <td>1665</td>\n",
       "      <td>Female</td>\n",
       "      <td>79.0</td>\n",
       "      <td>1</td>\n",
       "      <td>0</td>\n",
       "      <td>1</td>\n",
       "      <td>Self-employed</td>\n",
       "      <td>0</td>\n",
       "      <td>174.12</td>\n",
       "      <td>24.0</td>\n",
       "      <td>never smoked</td>\n",
       "      <td>1</td>\n",
       "    </tr>\n",
       "  </tbody>\n",
       "</table>\n",
       "</div>"
      ],
      "text/plain": [
       "      id  gender   age  hypertension  heart_disease  ever_married      work_type  Residence_type  avg_glucose_level   bmi   smoking_status  stroke\n",
       "0   9046    Male  67.0             0              1             1        Private               1             228.69  36.6  formerly smoked       1\n",
       "1  51676  Female  61.0             0              0             1  Self-employed               0             202.21  28.1     never smoked       1\n",
       "2  31112    Male  80.0             0              1             1        Private               0             105.92  32.5     never smoked       1\n",
       "3  60182  Female  49.0             0              0             1        Private               1             171.23  34.4           smokes       1\n",
       "4   1665  Female  79.0             1              0             1  Self-employed               0             174.12  24.0     never smoked       1"
      ]
     },
     "execution_count": 167,
     "metadata": {},
     "output_type": "execute_result"
    }
   ],
   "source": [
    "df.head()"
   ]
  },
  {
   "cell_type": "markdown",
   "id": "cbc4bfc0",
   "metadata": {},
   "source": [
    "One-Hot Encoder"
   ]
  },
  {
   "cell_type": "markdown",
   "id": "2a9a9d4a",
   "metadata": {},
   "source": [
    "One-hot encoder was applied to columns with more than 2 categories"
   ]
  },
  {
   "cell_type": "code",
   "execution_count": 168,
   "id": "1ae22dd2",
   "metadata": {},
   "outputs": [],
   "source": [
    "ohe_cols = [col for col in df.columns if 2 < df[col].nunique() < 10]"
   ]
  },
  {
   "cell_type": "code",
   "execution_count": 169,
   "id": "34e9e6b4",
   "metadata": {},
   "outputs": [
    {
     "data": {
      "text/plain": [
       "['gender', 'work_type', 'smoking_status']"
      ]
     },
     "execution_count": 169,
     "metadata": {},
     "output_type": "execute_result"
    }
   ],
   "source": [
    "ohe_cols"
   ]
  },
  {
   "cell_type": "code",
   "execution_count": 170,
   "id": "ccf4c42d",
   "metadata": {},
   "outputs": [],
   "source": [
    "df = pd.get_dummies(df, columns=ohe_cols, drop_first=True)"
   ]
  },
  {
   "cell_type": "code",
   "execution_count": 171,
   "id": "4850a008",
   "metadata": {},
   "outputs": [
    {
     "data": {
      "text/html": [
       "<div>\n",
       "<style scoped>\n",
       "    .dataframe tbody tr th:only-of-type {\n",
       "        vertical-align: middle;\n",
       "    }\n",
       "\n",
       "    .dataframe tbody tr th {\n",
       "        vertical-align: top;\n",
       "    }\n",
       "\n",
       "    .dataframe thead th {\n",
       "        text-align: right;\n",
       "    }\n",
       "</style>\n",
       "<table border=\"1\" class=\"dataframe\">\n",
       "  <thead>\n",
       "    <tr style=\"text-align: right;\">\n",
       "      <th></th>\n",
       "      <th>id</th>\n",
       "      <th>age</th>\n",
       "      <th>hypertension</th>\n",
       "      <th>heart_disease</th>\n",
       "      <th>ever_married</th>\n",
       "      <th>Residence_type</th>\n",
       "      <th>avg_glucose_level</th>\n",
       "      <th>bmi</th>\n",
       "      <th>stroke</th>\n",
       "      <th>gender_Male</th>\n",
       "      <th>gender_Other</th>\n",
       "      <th>work_type_Never_worked</th>\n",
       "      <th>work_type_Private</th>\n",
       "      <th>work_type_Self-employed</th>\n",
       "      <th>work_type_children</th>\n",
       "      <th>smoking_status_formerly smoked</th>\n",
       "      <th>smoking_status_never smoked</th>\n",
       "      <th>smoking_status_smokes</th>\n",
       "    </tr>\n",
       "  </thead>\n",
       "  <tbody>\n",
       "    <tr>\n",
       "      <th>0</th>\n",
       "      <td>9046</td>\n",
       "      <td>67.0</td>\n",
       "      <td>0</td>\n",
       "      <td>1</td>\n",
       "      <td>1</td>\n",
       "      <td>1</td>\n",
       "      <td>228.69</td>\n",
       "      <td>36.6</td>\n",
       "      <td>1</td>\n",
       "      <td>1</td>\n",
       "      <td>0</td>\n",
       "      <td>0</td>\n",
       "      <td>1</td>\n",
       "      <td>0</td>\n",
       "      <td>0</td>\n",
       "      <td>1</td>\n",
       "      <td>0</td>\n",
       "      <td>0</td>\n",
       "    </tr>\n",
       "    <tr>\n",
       "      <th>1</th>\n",
       "      <td>51676</td>\n",
       "      <td>61.0</td>\n",
       "      <td>0</td>\n",
       "      <td>0</td>\n",
       "      <td>1</td>\n",
       "      <td>0</td>\n",
       "      <td>202.21</td>\n",
       "      <td>28.1</td>\n",
       "      <td>1</td>\n",
       "      <td>0</td>\n",
       "      <td>0</td>\n",
       "      <td>0</td>\n",
       "      <td>0</td>\n",
       "      <td>1</td>\n",
       "      <td>0</td>\n",
       "      <td>0</td>\n",
       "      <td>1</td>\n",
       "      <td>0</td>\n",
       "    </tr>\n",
       "    <tr>\n",
       "      <th>2</th>\n",
       "      <td>31112</td>\n",
       "      <td>80.0</td>\n",
       "      <td>0</td>\n",
       "      <td>1</td>\n",
       "      <td>1</td>\n",
       "      <td>0</td>\n",
       "      <td>105.92</td>\n",
       "      <td>32.5</td>\n",
       "      <td>1</td>\n",
       "      <td>1</td>\n",
       "      <td>0</td>\n",
       "      <td>0</td>\n",
       "      <td>1</td>\n",
       "      <td>0</td>\n",
       "      <td>0</td>\n",
       "      <td>0</td>\n",
       "      <td>1</td>\n",
       "      <td>0</td>\n",
       "    </tr>\n",
       "    <tr>\n",
       "      <th>3</th>\n",
       "      <td>60182</td>\n",
       "      <td>49.0</td>\n",
       "      <td>0</td>\n",
       "      <td>0</td>\n",
       "      <td>1</td>\n",
       "      <td>1</td>\n",
       "      <td>171.23</td>\n",
       "      <td>34.4</td>\n",
       "      <td>1</td>\n",
       "      <td>0</td>\n",
       "      <td>0</td>\n",
       "      <td>0</td>\n",
       "      <td>1</td>\n",
       "      <td>0</td>\n",
       "      <td>0</td>\n",
       "      <td>0</td>\n",
       "      <td>0</td>\n",
       "      <td>1</td>\n",
       "    </tr>\n",
       "    <tr>\n",
       "      <th>4</th>\n",
       "      <td>1665</td>\n",
       "      <td>79.0</td>\n",
       "      <td>1</td>\n",
       "      <td>0</td>\n",
       "      <td>1</td>\n",
       "      <td>0</td>\n",
       "      <td>174.12</td>\n",
       "      <td>24.0</td>\n",
       "      <td>1</td>\n",
       "      <td>0</td>\n",
       "      <td>0</td>\n",
       "      <td>0</td>\n",
       "      <td>0</td>\n",
       "      <td>1</td>\n",
       "      <td>0</td>\n",
       "      <td>0</td>\n",
       "      <td>1</td>\n",
       "      <td>0</td>\n",
       "    </tr>\n",
       "  </tbody>\n",
       "</table>\n",
       "</div>"
      ],
      "text/plain": [
       "      id   age  hypertension  heart_disease  ever_married  Residence_type  avg_glucose_level   bmi  stroke  gender_Male  gender_Other  work_type_Never_worked  work_type_Private  work_type_Self-employed  work_type_children  smoking_status_formerly smoked  smoking_status_never smoked  smoking_status_smokes\n",
       "0   9046  67.0             0              1             1               1             228.69  36.6       1            1             0                       0                  1                        0                   0                               1                            0                      0\n",
       "1  51676  61.0             0              0             1               0             202.21  28.1       1            0             0                       0                  0                        1                   0                               0                            1                      0\n",
       "2  31112  80.0             0              1             1               0             105.92  32.5       1            1             0                       0                  1                        0                   0                               0                            1                      0\n",
       "3  60182  49.0             0              0             1               1             171.23  34.4       1            0             0                       0                  1                        0                   0                               0                            0                      1\n",
       "4   1665  79.0             1              0             1               0             174.12  24.0       1            0             0                       0                  0                        1                   0                               0                            1                      0"
      ]
     },
     "execution_count": 171,
     "metadata": {},
     "output_type": "execute_result"
    }
   ],
   "source": [
    "df.head()"
   ]
  },
  {
   "cell_type": "markdown",
   "id": "ec03f69c",
   "metadata": {},
   "source": [
    "Dealing with Outliers"
   ]
  },
  {
   "cell_type": "markdown",
   "id": "dd1ea49f",
   "metadata": {},
   "source": [
    "Using the iqr method, outliers were replaced with their upper and lower limits"
   ]
  },
  {
   "cell_type": "code",
   "execution_count": 172,
   "id": "f613c6fd",
   "metadata": {},
   "outputs": [],
   "source": [
    "def replace_with_thresholds(df, col, low_threshold=0.1, up_threshold=0.9):\n",
    "    q1 = df[col].quantile(low_threshold)\n",
    "    q3 = df[col].quantile(up_threshold)\n",
    "    interquantile = q3 - q1\n",
    "    up_limit = q3 + 1.5 * interquantile\n",
    "    low_limit = q1 - 1.5 * interquantile\n",
    "    df.loc[(df[col] < low_limit), col] = low_limit\n",
    "    df.loc[(df[col] > up_limit), col] = up_limit"
   ]
  },
  {
   "cell_type": "code",
   "execution_count": 173,
   "id": "8e29c044",
   "metadata": {},
   "outputs": [],
   "source": [
    "for col in outlier_cols:\n",
    "    replace_with_thresholds(df, col)"
   ]
  },
  {
   "cell_type": "markdown",
   "id": "e1ab3393",
   "metadata": {},
   "source": [
    "Checked for outliers again"
   ]
  },
  {
   "cell_type": "code",
   "execution_count": 174,
   "id": "53ce08f1",
   "metadata": {},
   "outputs": [
    {
     "name": "stdout",
     "output_type": "stream",
     "text": [
      "There is no outliers\n"
     ]
    },
    {
     "data": {
      "text/plain": [
       "[]"
      ]
     },
     "execution_count": 174,
     "metadata": {},
     "output_type": "execute_result"
    }
   ],
   "source": [
    "check_outliers(df, num_cols)"
   ]
  },
  {
   "cell_type": "markdown",
   "id": "a454088e",
   "metadata": {},
   "source": [
    "Feature Scaling"
   ]
  },
  {
   "cell_type": "markdown",
   "id": "3d961b69",
   "metadata": {},
   "source": [
    "Min-Max Scaler was applied to \"age\", \"bmi\" and \"avg_glucose_level\""
   ]
  },
  {
   "cell_type": "code",
   "execution_count": 175,
   "id": "8beb1a09",
   "metadata": {},
   "outputs": [],
   "source": [
    "sc = MinMaxScaler()"
   ]
  },
  {
   "cell_type": "code",
   "execution_count": 176,
   "id": "f7416b49",
   "metadata": {},
   "outputs": [],
   "source": [
    "df[\"age\"] = sc.fit_transform(df[[\"age\"]])\n",
    "df[\"bmi\"] = sc.fit_transform(df[[\"bmi\"]])\n",
    "df[\"avg_glucose_level\"] = sc.fit_transform(df[[\"avg_glucose_level\"]])"
   ]
  },
  {
   "cell_type": "code",
   "execution_count": 177,
   "id": "8df99923",
   "metadata": {},
   "outputs": [
    {
     "data": {
      "text/html": [
       "<div>\n",
       "<style scoped>\n",
       "    .dataframe tbody tr th:only-of-type {\n",
       "        vertical-align: middle;\n",
       "    }\n",
       "\n",
       "    .dataframe tbody tr th {\n",
       "        vertical-align: top;\n",
       "    }\n",
       "\n",
       "    .dataframe thead th {\n",
       "        text-align: right;\n",
       "    }\n",
       "</style>\n",
       "<table border=\"1\" class=\"dataframe\">\n",
       "  <thead>\n",
       "    <tr style=\"text-align: right;\">\n",
       "      <th></th>\n",
       "      <th>id</th>\n",
       "      <th>age</th>\n",
       "      <th>hypertension</th>\n",
       "      <th>heart_disease</th>\n",
       "      <th>ever_married</th>\n",
       "      <th>Residence_type</th>\n",
       "      <th>avg_glucose_level</th>\n",
       "      <th>bmi</th>\n",
       "      <th>stroke</th>\n",
       "      <th>gender_Male</th>\n",
       "      <th>gender_Other</th>\n",
       "      <th>work_type_Never_worked</th>\n",
       "      <th>work_type_Private</th>\n",
       "      <th>work_type_Self-employed</th>\n",
       "      <th>work_type_children</th>\n",
       "      <th>smoking_status_formerly smoked</th>\n",
       "      <th>smoking_status_never smoked</th>\n",
       "      <th>smoking_status_smokes</th>\n",
       "    </tr>\n",
       "  </thead>\n",
       "  <tbody>\n",
       "    <tr>\n",
       "      <th>0</th>\n",
       "      <td>9046</td>\n",
       "      <td>0.816895</td>\n",
       "      <td>0</td>\n",
       "      <td>1</td>\n",
       "      <td>1</td>\n",
       "      <td>1</td>\n",
       "      <td>0.801265</td>\n",
       "      <td>0.464541</td>\n",
       "      <td>1</td>\n",
       "      <td>1</td>\n",
       "      <td>0</td>\n",
       "      <td>0</td>\n",
       "      <td>1</td>\n",
       "      <td>0</td>\n",
       "      <td>0</td>\n",
       "      <td>1</td>\n",
       "      <td>0</td>\n",
       "      <td>0</td>\n",
       "    </tr>\n",
       "    <tr>\n",
       "      <th>1</th>\n",
       "      <td>51676</td>\n",
       "      <td>0.743652</td>\n",
       "      <td>0</td>\n",
       "      <td>0</td>\n",
       "      <td>1</td>\n",
       "      <td>0</td>\n",
       "      <td>0.679023</td>\n",
       "      <td>0.314404</td>\n",
       "      <td>1</td>\n",
       "      <td>0</td>\n",
       "      <td>0</td>\n",
       "      <td>0</td>\n",
       "      <td>0</td>\n",
       "      <td>1</td>\n",
       "      <td>0</td>\n",
       "      <td>0</td>\n",
       "      <td>1</td>\n",
       "      <td>0</td>\n",
       "    </tr>\n",
       "    <tr>\n",
       "      <th>2</th>\n",
       "      <td>31112</td>\n",
       "      <td>0.975586</td>\n",
       "      <td>0</td>\n",
       "      <td>1</td>\n",
       "      <td>1</td>\n",
       "      <td>0</td>\n",
       "      <td>0.234512</td>\n",
       "      <td>0.392122</td>\n",
       "      <td>1</td>\n",
       "      <td>1</td>\n",
       "      <td>0</td>\n",
       "      <td>0</td>\n",
       "      <td>1</td>\n",
       "      <td>0</td>\n",
       "      <td>0</td>\n",
       "      <td>0</td>\n",
       "      <td>1</td>\n",
       "      <td>0</td>\n",
       "    </tr>\n",
       "    <tr>\n",
       "      <th>3</th>\n",
       "      <td>60182</td>\n",
       "      <td>0.597168</td>\n",
       "      <td>0</td>\n",
       "      <td>0</td>\n",
       "      <td>1</td>\n",
       "      <td>1</td>\n",
       "      <td>0.536008</td>\n",
       "      <td>0.425682</td>\n",
       "      <td>1</td>\n",
       "      <td>0</td>\n",
       "      <td>0</td>\n",
       "      <td>0</td>\n",
       "      <td>1</td>\n",
       "      <td>0</td>\n",
       "      <td>0</td>\n",
       "      <td>0</td>\n",
       "      <td>0</td>\n",
       "      <td>1</td>\n",
       "    </tr>\n",
       "    <tr>\n",
       "      <th>4</th>\n",
       "      <td>1665</td>\n",
       "      <td>0.963379</td>\n",
       "      <td>1</td>\n",
       "      <td>0</td>\n",
       "      <td>1</td>\n",
       "      <td>0</td>\n",
       "      <td>0.549349</td>\n",
       "      <td>0.241985</td>\n",
       "      <td>1</td>\n",
       "      <td>0</td>\n",
       "      <td>0</td>\n",
       "      <td>0</td>\n",
       "      <td>0</td>\n",
       "      <td>1</td>\n",
       "      <td>0</td>\n",
       "      <td>0</td>\n",
       "      <td>1</td>\n",
       "      <td>0</td>\n",
       "    </tr>\n",
       "  </tbody>\n",
       "</table>\n",
       "</div>"
      ],
      "text/plain": [
       "      id       age  hypertension  heart_disease  ever_married  Residence_type  avg_glucose_level       bmi  stroke  gender_Male  gender_Other  work_type_Never_worked  work_type_Private  work_type_Self-employed  work_type_children  smoking_status_formerly smoked  smoking_status_never smoked  smoking_status_smokes\n",
       "0   9046  0.816895             0              1             1               1           0.801265  0.464541       1            1             0                       0                  1                        0                   0                               1                            0                      0\n",
       "1  51676  0.743652             0              0             1               0           0.679023  0.314404       1            0             0                       0                  0                        1                   0                               0                            1                      0\n",
       "2  31112  0.975586             0              1             1               0           0.234512  0.392122       1            1             0                       0                  1                        0                   0                               0                            1                      0\n",
       "3  60182  0.597168             0              0             1               1           0.536008  0.425682       1            0             0                       0                  1                        0                   0                               0                            0                      1\n",
       "4   1665  0.963379             1              0             1               0           0.549349  0.241985       1            0             0                       0                  0                        1                   0                               0                            1                      0"
      ]
     },
     "execution_count": 177,
     "metadata": {},
     "output_type": "execute_result"
    }
   ],
   "source": [
    "df.head()"
   ]
  },
  {
   "cell_type": "markdown",
   "id": "51fb0342",
   "metadata": {},
   "source": [
    "Model Building"
   ]
  },
  {
   "cell_type": "code",
   "execution_count": 178,
   "id": "181d7257",
   "metadata": {},
   "outputs": [],
   "source": [
    "y = df[\"stroke\"]\n",
    "X = df.drop([\"stroke\", \"id\"], axis=1)"
   ]
  },
  {
   "cell_type": "code",
   "execution_count": 179,
   "id": "c700f29f",
   "metadata": {},
   "outputs": [],
   "source": [
    "models = [(\"LR\", LogisticRegression()),\n",
    "          (\"KNN\", KNeighborsClassifier()),\n",
    "          (\"DecisionTree\", DecisionTreeClassifier()),\n",
    "          (\"RF\", RandomForestClassifier()),\n",
    "          (\"SVC\", SVC()),\n",
    "          (\"GBM\", GradientBoostingClassifier())]"
   ]
  },
  {
   "cell_type": "code",
   "execution_count": 180,
   "id": "85cf7701",
   "metadata": {},
   "outputs": [
    {
     "name": "stdout",
     "output_type": "stream",
     "text": [
      "LR \n",
      " Accuracy:0.9514677103718199 \n",
      " Recall:0.004081632653061224 \n",
      " Precision:0.2 \n",
      " F-Score:0.007999999999999998\n",
      "KNN \n",
      " Accuracy:0.9506849315068493 \n",
      " Recall:0.028163265306122447 \n",
      " Precision:0.5666666666666667 \n",
      " F-Score:0.05262994086523498\n",
      "DecisionTree \n",
      " Accuracy:0.9119373776908024 \n",
      " Recall:0.19224489795918365 \n",
      " Precision:0.15856649260904582 \n",
      " F-Score:0.1727723357196201\n",
      "RF \n",
      " Accuracy:0.9500978473581213 \n",
      " Recall:0.008081632653061225 \n",
      " Precision:0.16666666666666666 \n",
      " F-Score:0.015384615384615385\n",
      "SVC \n",
      " Accuracy:0.9512720156555773 \n",
      " Recall:0.0 \n",
      " Precision:0.0 \n",
      " F-Score:0.0\n",
      "GBM \n",
      " Accuracy:0.9485322896281799 \n",
      " Recall:0.004081632653061224 \n",
      " Precision:0.05 \n",
      " F-Score:0.007547169811320753\n"
     ]
    }
   ],
   "source": [
    "for name, regressor in models:\n",
    "    cv = cross_validate(regressor, X, y, cv=5, scoring=[\"accuracy\", \"f1\", \"recall\", \"precision\"])\n",
    "    print(f'{name} \\n {\"Accuracy\"}:{cv[\"test_accuracy\"].mean()} \\n {\"Recall\"}:{cv[\"test_recall\"].mean()} \\n {\"Precision\"}:{cv[\"test_precision\"].mean()} \\n {\"F-Score\"}:{cv[\"test_f1\"].mean()}')\n"
   ]
  },
  {
   "cell_type": "markdown",
   "id": "53d844ed",
   "metadata": {},
   "source": [
    "Sampling"
   ]
  },
  {
   "cell_type": "markdown",
   "id": "fac147c3",
   "metadata": {},
   "source": [
    "SMOTE"
   ]
  },
  {
   "cell_type": "code",
   "execution_count": 181,
   "id": "ed4e955e",
   "metadata": {},
   "outputs": [],
   "source": [
    "from imblearn.over_sampling import SMOTE"
   ]
  },
  {
   "cell_type": "code",
   "execution_count": 182,
   "id": "f186f4f7",
   "metadata": {},
   "outputs": [],
   "source": [
    "sm = SMOTE()"
   ]
  },
  {
   "cell_type": "code",
   "execution_count": 183,
   "id": "37a10c23",
   "metadata": {},
   "outputs": [],
   "source": [
    "X_train, X_test, y_train, y_test = train_test_split(X, y, test_size=0.2)"
   ]
  },
  {
   "cell_type": "code",
   "execution_count": 184,
   "id": "17b6b8ce",
   "metadata": {},
   "outputs": [
    {
     "data": {
      "text/plain": [
       "193"
      ]
     },
     "execution_count": 184,
     "metadata": {},
     "output_type": "execute_result"
    }
   ],
   "source": [
    "sum(y_train == 1) "
   ]
  },
  {
   "cell_type": "markdown",
   "id": "123c0570",
   "metadata": {},
   "source": [
    "There are 193 data equal to 1"
   ]
  },
  {
   "cell_type": "code",
   "execution_count": 185,
   "id": "65ab9dee",
   "metadata": {},
   "outputs": [
    {
     "data": {
      "text/plain": [
       "3895"
      ]
     },
     "execution_count": 185,
     "metadata": {},
     "output_type": "execute_result"
    }
   ],
   "source": [
    "sum(y_train == 0)"
   ]
  },
  {
   "cell_type": "markdown",
   "id": "a678eeaf",
   "metadata": {},
   "source": [
    "There are 3895 data equal to 0"
   ]
  },
  {
   "cell_type": "code",
   "execution_count": 186,
   "id": "5a1b352c",
   "metadata": {},
   "outputs": [],
   "source": [
    "X_train_smote, y_train_smote = sm.fit_resample(X_train, y_train)"
   ]
  },
  {
   "cell_type": "code",
   "execution_count": 187,
   "id": "352621ce",
   "metadata": {},
   "outputs": [
    {
     "data": {
      "text/plain": [
       "3895"
      ]
     },
     "execution_count": 187,
     "metadata": {},
     "output_type": "execute_result"
    }
   ],
   "source": [
    "sum(y_train_smote == 1)"
   ]
  },
  {
   "cell_type": "markdown",
   "id": "a0e39d01",
   "metadata": {},
   "source": [
    "There are 3895 data equal to 1"
   ]
  },
  {
   "cell_type": "code",
   "execution_count": 188,
   "id": "c80260d9",
   "metadata": {},
   "outputs": [
    {
     "data": {
      "text/plain": [
       "3895"
      ]
     },
     "execution_count": 188,
     "metadata": {},
     "output_type": "execute_result"
    }
   ],
   "source": [
    "sum(y_train_smote == 0)"
   ]
  },
  {
   "cell_type": "markdown",
   "id": "c635e5c3",
   "metadata": {},
   "source": [
    "There are 3895 data equal to 1"
   ]
  },
  {
   "cell_type": "code",
   "execution_count": 189,
   "id": "0b7795c9",
   "metadata": {},
   "outputs": [
    {
     "name": "stdout",
     "output_type": "stream",
     "text": [
      "LR\n",
      "Confusion Matrix: \n",
      "[[689 277]\n",
      " [  7  49]]\n",
      "              precision    recall  f1-score   support\n",
      "\n",
      "           0       0.99      0.71      0.83       966\n",
      "           1       0.15      0.88      0.26        56\n",
      "\n",
      "    accuracy                           0.72      1022\n",
      "   macro avg       0.57      0.79      0.54      1022\n",
      "weighted avg       0.94      0.72      0.80      1022\n",
      "\n",
      "\n",
      "KNN\n",
      "Confusion Matrix: \n",
      "[[765 201]\n",
      " [ 33  23]]\n",
      "              precision    recall  f1-score   support\n",
      "\n",
      "           0       0.96      0.79      0.87       966\n",
      "           1       0.10      0.41      0.16        56\n",
      "\n",
      "    accuracy                           0.77      1022\n",
      "   macro avg       0.53      0.60      0.52      1022\n",
      "weighted avg       0.91      0.77      0.83      1022\n",
      "\n",
      "\n",
      "DecisionTree\n",
      "Confusion Matrix: \n",
      "[[857 109]\n",
      " [ 40  16]]\n",
      "              precision    recall  f1-score   support\n",
      "\n",
      "           0       0.96      0.89      0.92       966\n",
      "           1       0.13      0.29      0.18        56\n",
      "\n",
      "    accuracy                           0.85      1022\n",
      "   macro avg       0.54      0.59      0.55      1022\n",
      "weighted avg       0.91      0.85      0.88      1022\n",
      "\n",
      "\n",
      "RF\n",
      "Confusion Matrix: \n",
      "[[860 106]\n",
      " [ 46  10]]\n",
      "              precision    recall  f1-score   support\n",
      "\n",
      "           0       0.95      0.89      0.92       966\n",
      "           1       0.09      0.18      0.12        56\n",
      "\n",
      "    accuracy                           0.85      1022\n",
      "   macro avg       0.52      0.53      0.52      1022\n",
      "weighted avg       0.90      0.85      0.87      1022\n",
      "\n",
      "\n",
      "SVC\n",
      "Confusion Matrix: \n",
      "[[711 255]\n",
      " [ 20  36]]\n",
      "              precision    recall  f1-score   support\n",
      "\n",
      "           0       0.97      0.74      0.84       966\n",
      "           1       0.12      0.64      0.21        56\n",
      "\n",
      "    accuracy                           0.73      1022\n",
      "   macro avg       0.55      0.69      0.52      1022\n",
      "weighted avg       0.93      0.73      0.80      1022\n",
      "\n",
      "\n",
      "GBM\n",
      "Confusion Matrix: \n",
      "[[742 224]\n",
      " [ 17  39]]\n",
      "              precision    recall  f1-score   support\n",
      "\n",
      "           0       0.98      0.77      0.86       966\n",
      "           1       0.15      0.70      0.24        56\n",
      "\n",
      "    accuracy                           0.76      1022\n",
      "   macro avg       0.56      0.73      0.55      1022\n",
      "weighted avg       0.93      0.76      0.83      1022\n",
      "\n",
      "\n"
     ]
    }
   ],
   "source": [
    "for name, regressor in models:\n",
    "    regressor.fit(X_train_smote, y_train_smote)\n",
    "    pre = regressor.predict(X_test)\n",
    "    print(f'{name}\\nConfusion Matrix: \\n{confusion_matrix(y_test, pre)}\\n{classification_report(y_test, pre)}\\n')"
   ]
  },
  {
   "cell_type": "markdown",
   "id": "12552d0a",
   "metadata": {},
   "source": [
    "Logistic Regression can be use with 76% recall score"
   ]
  },
  {
   "cell_type": "markdown",
   "id": "096e01bf",
   "metadata": {},
   "source": [
    "Split the data into features (X) and target variable (y)"
   ]
  },
  {
   "cell_type": "code",
   "execution_count": 190,
   "id": "bb0f9740",
   "metadata": {},
   "outputs": [],
   "source": [
    "X = df.drop(\"stroke\", axis=1)\n",
    "y = df[\"stroke\"]"
   ]
  },
  {
   "cell_type": "markdown",
   "id": "426b4b3f",
   "metadata": {},
   "source": [
    "Split the data into training and test sets"
   ]
  },
  {
   "cell_type": "code",
   "execution_count": 191,
   "id": "656becb2",
   "metadata": {},
   "outputs": [],
   "source": [
    "X_train, X_test, y_train, y_test = train_test_split(X, y, test_size=0.2, random_state=42)"
   ]
  },
  {
   "cell_type": "markdown",
   "id": "76fc6c02",
   "metadata": {},
   "source": [
    "Train a logistic regression model on the training set"
   ]
  },
  {
   "cell_type": "code",
   "execution_count": 192,
   "id": "55e99111",
   "metadata": {},
   "outputs": [
    {
     "data": {
      "text/html": [
       "<style>#sk-container-id-3 {color: black;background-color: white;}#sk-container-id-3 pre{padding: 0;}#sk-container-id-3 div.sk-toggleable {background-color: white;}#sk-container-id-3 label.sk-toggleable__label {cursor: pointer;display: block;width: 100%;margin-bottom: 0;padding: 0.3em;box-sizing: border-box;text-align: center;}#sk-container-id-3 label.sk-toggleable__label-arrow:before {content: \"▸\";float: left;margin-right: 0.25em;color: #696969;}#sk-container-id-3 label.sk-toggleable__label-arrow:hover:before {color: black;}#sk-container-id-3 div.sk-estimator:hover label.sk-toggleable__label-arrow:before {color: black;}#sk-container-id-3 div.sk-toggleable__content {max-height: 0;max-width: 0;overflow: hidden;text-align: left;background-color: #f0f8ff;}#sk-container-id-3 div.sk-toggleable__content pre {margin: 0.2em;color: black;border-radius: 0.25em;background-color: #f0f8ff;}#sk-container-id-3 input.sk-toggleable__control:checked~div.sk-toggleable__content {max-height: 200px;max-width: 100%;overflow: auto;}#sk-container-id-3 input.sk-toggleable__control:checked~label.sk-toggleable__label-arrow:before {content: \"▾\";}#sk-container-id-3 div.sk-estimator input.sk-toggleable__control:checked~label.sk-toggleable__label {background-color: #d4ebff;}#sk-container-id-3 div.sk-label input.sk-toggleable__control:checked~label.sk-toggleable__label {background-color: #d4ebff;}#sk-container-id-3 input.sk-hidden--visually {border: 0;clip: rect(1px 1px 1px 1px);clip: rect(1px, 1px, 1px, 1px);height: 1px;margin: -1px;overflow: hidden;padding: 0;position: absolute;width: 1px;}#sk-container-id-3 div.sk-estimator {font-family: monospace;background-color: #f0f8ff;border: 1px dotted black;border-radius: 0.25em;box-sizing: border-box;margin-bottom: 0.5em;}#sk-container-id-3 div.sk-estimator:hover {background-color: #d4ebff;}#sk-container-id-3 div.sk-parallel-item::after {content: \"\";width: 100%;border-bottom: 1px solid gray;flex-grow: 1;}#sk-container-id-3 div.sk-label:hover label.sk-toggleable__label {background-color: #d4ebff;}#sk-container-id-3 div.sk-serial::before {content: \"\";position: absolute;border-left: 1px solid gray;box-sizing: border-box;top: 0;bottom: 0;left: 50%;z-index: 0;}#sk-container-id-3 div.sk-serial {display: flex;flex-direction: column;align-items: center;background-color: white;padding-right: 0.2em;padding-left: 0.2em;position: relative;}#sk-container-id-3 div.sk-item {position: relative;z-index: 1;}#sk-container-id-3 div.sk-parallel {display: flex;align-items: stretch;justify-content: center;background-color: white;position: relative;}#sk-container-id-3 div.sk-item::before, #sk-container-id-3 div.sk-parallel-item::before {content: \"\";position: absolute;border-left: 1px solid gray;box-sizing: border-box;top: 0;bottom: 0;left: 50%;z-index: -1;}#sk-container-id-3 div.sk-parallel-item {display: flex;flex-direction: column;z-index: 1;position: relative;background-color: white;}#sk-container-id-3 div.sk-parallel-item:first-child::after {align-self: flex-end;width: 50%;}#sk-container-id-3 div.sk-parallel-item:last-child::after {align-self: flex-start;width: 50%;}#sk-container-id-3 div.sk-parallel-item:only-child::after {width: 0;}#sk-container-id-3 div.sk-dashed-wrapped {border: 1px dashed gray;margin: 0 0.4em 0.5em 0.4em;box-sizing: border-box;padding-bottom: 0.4em;background-color: white;}#sk-container-id-3 div.sk-label label {font-family: monospace;font-weight: bold;display: inline-block;line-height: 1.2em;}#sk-container-id-3 div.sk-label-container {text-align: center;}#sk-container-id-3 div.sk-container {/* jupyter's `normalize.less` sets `[hidden] { display: none; }` but bootstrap.min.css set `[hidden] { display: none !important; }` so we also need the `!important` here to be able to override the default hidden behavior on the sphinx rendered scikit-learn.org. See: https://github.com/scikit-learn/scikit-learn/issues/21755 */display: inline-block !important;position: relative;}#sk-container-id-3 div.sk-text-repr-fallback {display: none;}</style><div id=\"sk-container-id-3\" class=\"sk-top-container\"><div class=\"sk-text-repr-fallback\"><pre>LogisticRegression()</pre><b>In a Jupyter environment, please rerun this cell to show the HTML representation or trust the notebook. <br />On GitHub, the HTML representation is unable to render, please try loading this page with nbviewer.org.</b></div><div class=\"sk-container\" hidden><div class=\"sk-item\"><div class=\"sk-estimator sk-toggleable\"><input class=\"sk-toggleable__control sk-hidden--visually\" id=\"sk-estimator-id-3\" type=\"checkbox\" checked><label for=\"sk-estimator-id-3\" class=\"sk-toggleable__label sk-toggleable__label-arrow\">LogisticRegression</label><div class=\"sk-toggleable__content\"><pre>LogisticRegression()</pre></div></div></div></div></div>"
      ],
      "text/plain": [
       "LogisticRegression()"
      ]
     },
     "execution_count": 192,
     "metadata": {},
     "output_type": "execute_result"
    }
   ],
   "source": [
    "model = LogisticRegression()\n",
    "model.fit(X_train, y_train)"
   ]
  },
  {
   "cell_type": "markdown",
   "id": "b6a2f96e",
   "metadata": {},
   "source": [
    "Obtain the predicted probabilities for the test set"
   ]
  },
  {
   "cell_type": "code",
   "execution_count": 193,
   "id": "2d8903b6",
   "metadata": {},
   "outputs": [],
   "source": [
    "y_pred_prob = model.predict_proba(X_test)[:, 1]"
   ]
  },
  {
   "cell_type": "markdown",
   "id": "3058580d",
   "metadata": {},
   "source": [
    "Calculate the false positive rate and true positive rate for each threshold"
   ]
  },
  {
   "cell_type": "code",
   "execution_count": 194,
   "id": "14852a3e",
   "metadata": {},
   "outputs": [],
   "source": [
    "fpr, tpr, thresholds = roc_curve(y_test, y_pred_prob)"
   ]
  },
  {
   "cell_type": "markdown",
   "id": "4b21885d",
   "metadata": {},
   "source": [
    "Calculate the area under the curve (AUC)"
   ]
  },
  {
   "cell_type": "code",
   "execution_count": 195,
   "id": "cd3fb465",
   "metadata": {},
   "outputs": [],
   "source": [
    "roc_auc = auc(fpr, tpr)"
   ]
  },
  {
   "cell_type": "markdown",
   "id": "3e7954dd",
   "metadata": {},
   "source": [
    "Plot the ROC curve"
   ]
  },
  {
   "cell_type": "code",
   "execution_count": 196,
   "id": "6a03c43b",
   "metadata": {},
   "outputs": [
    {
     "data": {
      "image/png": "[encoded data removed]",
      "text/plain": [
       "<Figure size 640x480 with 1 Axes>"
      ]
     },
     "metadata": {},
     "output_type": "display_data"
    }
   ],
   "source": [
    "plt.figure()\n",
    "plt.plot(fpr, tpr, color='darkorange', lw=2, label='ROC curve (area = %0.2f)' % roc_auc)\n",
    "plt.plot([0, 1], [0, 1], color='navy', lw=2, linestyle='--')\n",
    "plt.xlim([0.0, 1.0])\n",
    "plt.ylim([0.0, 1.05])\n",
    "plt.xlabel('False Positive Rate')\n",
    "plt.ylabel('True Positive Rate')\n",
    "plt.title('Receiver Operating Characteristic (ROC)')\n",
    "plt.legend(loc=\"lower right\")\n",
    "plt.show()"
   ]
  },
  {
   "cell_type": "code",
   "execution_count": null,
   "id": "a6638a20",
   "metadata": {},
   "outputs": [],
   "source": []
  }
 ],
 "metadata": {
  "kernelspec": {
   "display_name": "Python 3 (ipykernel)",
   "language": "python",
   "name": "python3"
  },
  "language_info": {
   "codemirror_mode": {
    "name": "ipython",
    "version": 3
   },
   "file_extension": ".py",
   "mimetype": "text/x-python",
   "name": "python",
   "nbconvert_exporter": "python",
   "pygments_lexer": "ipython3",
   "version": "3.10.9"
  }
 },
 "nbformat": 4,
 "nbformat_minor": 5
}
